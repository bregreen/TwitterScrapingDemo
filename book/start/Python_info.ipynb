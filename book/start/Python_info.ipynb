{
 "cells": [
  {
   "cell_type": "markdown",
   "metadata": {},
   "source": [
    "## Python\n",
    "\n",
    "I hope you use it because I have no idea how to do this in R.\n",
    "\n",
    "````{panels}\n",
    "Content of the left panel.\n",
    "\n",
    "{badge}`example-badge,badge-primary`\n",
    "\n",
    "---\n",
    "\n",
    "```{link-button} Hey-there\n",
    ":text: Clickable right panel\n",
    ":type: ref\n",
    ":classes: stretched-link, btn-outline-primary btn-block\n",
    "```\n",
    "````\n",
    "\n",
    "To collect Twitter data, we're going to work with the Twitter API and twarc, a Python package for collecting Twitter data through the Twitter API. To access the Twitter API, we first need to:\n",
    "\n",
    "1. Apply for a Twitter developer account\n",
    "\n",
    "2. Create a Twitter application\n",
    "\n",
    "The developer account will allow us to create an application, which will eventually get us a series of API keys and tokens, which we can then use to access Twitter data.\n",
    "\n",
    "According to Twitter, the reason for this somewhat drawn-out application process is to \"prevent abuse of the Twitter platform\" and \"better understand and serve our developer community.\"\n",
    "\n",
    "After getting our API keys, we then need to"
   ]
  },
  {
   "cell_type": "code",
   "execution_count": null,
   "metadata": {},
   "outputs": [],
   "source": []
  }
 ],
 "metadata": {
  "kernelspec": {
   "display_name": "Python 3",
   "language": "python",
   "name": "python3"
  },
  "language_info": {
   "codemirror_mode": {
    "name": "ipython",
    "version": 3
   },
   "file_extension": ".py",
   "mimetype": "text/x-python",
   "name": "python",
   "nbconvert_exporter": "python",
   "pygments_lexer": "ipython3",
   "version": "3.8.5"
  }
 },
 "nbformat": 4,
 "nbformat_minor": 4
}
