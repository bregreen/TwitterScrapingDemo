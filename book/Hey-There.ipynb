{
 "cells": [
  {
   "cell_type": "markdown",
   "metadata": {},
   "source": [
    "# Let's Scrape Twitter! (w/ Python)\n",
    "\n",
    "**A demo by [Breanna E. Green ](https://bregreen.github.io/) // Powered by [Jupyter Book](https://jupyterbook.org/)** \n",
    "\n",
    "This webpage contains materials for a simple introduction to scraping content from Twitter. I created it present to colleagues and friends at Cornell in 2021 Spring (so if you are seeing this many moons in the future... brace yourself for this relic). A quick snippet about me -- I am a PhD Student in the [Information Science](https://infosci.cornell.edu/research) Department who's main research interest is how activist and extremist ideologies are developed and manifested online, particularly using social media.\n",
    "\n",
    " <img src=\"logo.png\" alt=\"Cartoon version of B. E. Green\" width=\"200\"/>\n",
    "\n",
    " **How are we going to do this?** \n",
    "\n",
    "    \"**Python for Cultural Data**  \\n\",\n",
    "    \"The *Introduction to Cultural Analytics & Python* textbook offers an introduction to the programming language Python that is specifically designed for humanities and social science students/scholars with no previous programming experience. It demonstrates how Python can be used to study cultural materials such as song lyrics, short stories, newspaper articles, tweets, Reddit posts, and film screenplays. It introduces computational methods such as web scraping, APIs, topic modeling, Named Entity Recognition (NER), network analysis, and mapping.\\n\",\n",
    "    \"\\n\",\n",
    "    \"**Interactive Code <i class=\\\"fa fa-rocket\\\" aria-hidden=\\\"true\\\"></i>**  \\n\",\n",
    "    \"Most of the pages in the book are Jupyter notebook files that can be downloaded and run with [Jupyter](https://jupyterlab.readthedocs.io/en/latest/getting_started/overview.html). Click the download button at the top of the page <i class=\\\"fa fa-download\\\" aria-hidden=\\\"true\\\"></i> to download the .ipynb file. The Jupyter notebooks can also be opened and run in the cloud without any prior configuration by clicking the launch button <i class=\\\"fa fa-rocket\\\" aria-hidden=\\\"true\\\"></i>. See {doc}`How To Interact With This Book <How-To-Interact-With-This-Book>` for more information.\\n\",\n",
    "\n",
    "\n",
    "**Acknowledgments**\n",
    "    I only learned how to develop this page after seeing the magnificent course materials of [Melanine Walsh](https://github.com/melaniewalsh/Intro-Cultural-Analytics), who themselves cite the works of [Lauren Klein](https://github.com/laurenfklein/emory-qtm340), [David Mimno](https://mimno.infosci.cornell.edu/info3350/), and [Allison Parrish](https://github.com/aparrish/rwet). Many, many thanks for such a beautiful and informative site!\n",
    "    \n",
    "   Second, many thanks to friends in the [THE SOCIAL PERCEPTION AND INTERGROUP (IN)EQUALITY LAB](http://www.kroschlab.com/) for whom I motivated to work on this! Otherwise, it might have been a powerpoint. *Crowd boos in dissatisfaction.*"
   ]
  },
  {
   "cell_type": "code",
   "execution_count": null,
   "metadata": {},
   "outputs": [],
   "source": []
  }
 ],
 "metadata": {
  "kernelspec": {
   "display_name": "Python 3",
   "language": "python",
   "name": "python3"
  },
  "language_info": {
   "codemirror_mode": {
    "name": "ipython",
    "version": 3
   },
   "file_extension": ".py",
   "mimetype": "text/x-python",
   "name": "python",
   "nbconvert_exporter": "python",
   "pygments_lexer": "ipython3",
   "version": "3.8.5"
  }
 },
 "nbformat": 4,
 "nbformat_minor": 4
}
