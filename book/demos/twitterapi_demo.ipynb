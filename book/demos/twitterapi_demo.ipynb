{
 "cells": [
  {
   "cell_type": "markdown",
   "metadata": {},
   "source": [
    "# Twitter API (+ Tweepy)"
   ]
  },
  {
   "cell_type": "code",
   "execution_count": null,
   "metadata": {},
   "outputs": [],
   "source": [
    "#Imports and Installs\n",
    "\n",
    "import json\n",
    "from   collections import defaultdict\n",
    "from   glob import glob\n",
    "import pandas as pd\n",
    "import numpy as np\n",
    "import os\n",
    "import string\n",
    "import sys\n",
    "import tweepy \n",
    "\n",
    "try:\n",
    "    import lzma\n",
    "except ImportError:\n",
    "    from backports import lzma"
   ]
  },
  {
   "cell_type": "code",
   "execution_count": 3,
   "metadata": {},
   "outputs": [],
   "source": [
    "#Tweepy\n",
    "#(https://www.geeksforgeeks.org/python-api-lookup_users-in-tweepy/)\n",
    "\n",
    "# assign the values accordingly \n",
    "consumer_key = \"LETTERSANDNUMBERS\" \n",
    "consumer_secret = \"LETTERSANDNUMBERS\" \n",
    "access_token = \"LETTERSANDNUMBERS\" \n",
    "access_token_secret = \"LETTERSANDNUMBERS\" \n",
    "  \n",
    "# authorization of consumer key and consumer secret \n",
    "auth = tweepy.OAuthHandler(consumer_key, consumer_secret) \n",
    "  \n",
    "# set access to user's access key and access secret  \n",
    "auth.set_access_token(access_token, access_token_secret) \n",
    "  \n",
    "# calling the api  \n",
    "api = tweepy.API(auth, wait_on_rate_limit=True, wait_on_rate_limit_notify=True) \n",
    "  "
   ]
  },
  {
   "cell_type": "code",
   "execution_count": 4,
   "metadata": {},
   "outputs": [
    {
     "name": "stdout",
     "output_type": "stream",
     "text": [
      "The id by twitter id is : 57741058\n",
      "The screen name by twitter id is : geeksforgeeks\n",
      "\n",
      "The id by twitter id is : 4802800777\n",
      "The screen name by twitter id is : PracticeGfG\n",
      "\n",
      "The id by twitter id is : 1037141442\n",
      "The screen name by twitter id is : GeeksQuiz\n",
      "\n",
      "The id by handle is : 57741058\n",
      "The screen name by handle is : geeksforgeeks\n",
      "\n",
      "The id by handle is : 4802800777\n",
      "The screen name by handle is : PracticeGfG\n",
      "\n",
      "The id by handle is : 1037141442\n",
      "The screen name by handle is : GeeksQuiz\n",
      "\n"
     ]
    }
   ],
   "source": [
    "## Test that this worked! (It does, keep it commented out)\n",
    "\n",
    "# list of user_ids \n",
    "user_ids = [57741058, 4802800777, 1037141442] \n",
    "  \n",
    "# getting the users by user_ids \n",
    "users = api.lookup_users(user_ids) \n",
    "  \n",
    "# printing the user details \n",
    "for user in users: \n",
    "    print(\"The id by twitter id is : \" + str(user.id)) \n",
    "    print(\"The screen name by twitter id is : \" + user.screen_name, end = \"\\n\\n\")\n",
    "    \n",
    "# list of screen_names \n",
    "handles = [\"geeksforgeeks\", \"PracticeGfG\", \"GeeksQuiz\"] \n",
    "  \n",
    "# getting the users by screen_names \n",
    "users = api.lookup_users(screen_names = handles) \n",
    "  \n",
    "# printing the user details \n",
    "for user in users: \n",
    "    print(\"The id by handle is : \" + str(user.id)) \n",
    "    print(\"The screen name by handle is : \" + user.screen_name, end = \"\\n\\n\") "
   ]
  }
 ],
 "metadata": {
  "kernelspec": {
   "display_name": "Python 3",
   "language": "python",
   "name": "python3"
  },
  "language_info": {
   "codemirror_mode": {
    "name": "ipython",
    "version": 3
   },
   "file_extension": ".py",
   "mimetype": "text/x-python",
   "name": "python",
   "nbconvert_exporter": "python",
   "pygments_lexer": "ipython3",
   "version": "3.8.5"
  }
 },
 "nbformat": 4,
 "nbformat_minor": 4
}
