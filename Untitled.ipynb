{
 "cells": [
  {
   "cell_type": "code",
   "execution_count": 1,
   "metadata": {},
   "outputs": [
    {
     "name": "stdout",
     "output_type": "stream",
     "text": [
      "Requirement already up-to-date: jupyter-book in /opt/anaconda3/lib/python3.8/site-packages (0.10.1)\n",
      "Requirement already satisfied, skipping upgrade: myst-nb~=0.12.0 in /opt/anaconda3/lib/python3.8/site-packages (from jupyter-book) (0.12.0)\n",
      "Requirement already satisfied, skipping upgrade: linkify-it-py~=1.0.1 in /opt/anaconda3/lib/python3.8/site-packages (from jupyter-book) (1.0.1)\n",
      "Requirement already satisfied, skipping upgrade: sphinx-panels~=0.5.2 in /opt/anaconda3/lib/python3.8/site-packages (from jupyter-book) (0.5.2)\n",
      "Requirement already satisfied, skipping upgrade: setuptools in /opt/anaconda3/lib/python3.8/site-packages (from jupyter-book) (50.3.1.post20201107)\n",
      "Requirement already satisfied, skipping upgrade: nested-lookup~=0.2.21 in /opt/anaconda3/lib/python3.8/site-packages (from jupyter-book) (0.2.22)\n",
      "Requirement already satisfied, skipping upgrade: pyyaml in /opt/anaconda3/lib/python3.8/site-packages (from jupyter-book) (5.3.1)\n",
      "Requirement already satisfied, skipping upgrade: docutils>=0.15 in /opt/anaconda3/lib/python3.8/site-packages (from jupyter-book) (0.16)\n",
      "Requirement already satisfied, skipping upgrade: sphinx-togglebutton in /opt/anaconda3/lib/python3.8/site-packages (from jupyter-book) (0.2.3)\n",
      "Requirement already satisfied, skipping upgrade: sphinx-comments in /opt/anaconda3/lib/python3.8/site-packages (from jupyter-book) (0.0.3)\n",
      "Requirement already satisfied, skipping upgrade: jsonschema in /opt/anaconda3/lib/python3.8/site-packages (from jupyter-book) (3.2.0)\n",
      "Requirement already satisfied, skipping upgrade: sphinx<4,>=2 in /opt/anaconda3/lib/python3.8/site-packages (from jupyter-book) (3.2.1)\n",
      "Requirement already satisfied, skipping upgrade: sphinxcontrib-bibtex~=2.1.0 in /opt/anaconda3/lib/python3.8/site-packages (from jupyter-book) (2.1.4)\n",
      "Requirement already satisfied, skipping upgrade: nbformat in /opt/anaconda3/lib/python3.8/site-packages (from jupyter-book) (5.0.8)\n",
      "Requirement already satisfied, skipping upgrade: nbconvert<6 in /opt/anaconda3/lib/python3.8/site-packages (from jupyter-book) (5.6.1)\n",
      "Requirement already satisfied, skipping upgrade: sphinx-book-theme>=0.0.39 in /opt/anaconda3/lib/python3.8/site-packages (from jupyter-book) (0.0.42)\n",
      "Requirement already satisfied, skipping upgrade: sphinx-copybutton in /opt/anaconda3/lib/python3.8/site-packages (from jupyter-book) (0.3.1)\n",
      "Requirement already satisfied, skipping upgrade: click in /opt/anaconda3/lib/python3.8/site-packages (from jupyter-book) (7.1.2)\n",
      "Requirement already satisfied, skipping upgrade: jupytext<1.11,>=1.8 in /opt/anaconda3/lib/python3.8/site-packages (from jupyter-book) (1.10.3)\n",
      "Requirement already satisfied, skipping upgrade: sphinx-thebe>=0.0.6 in /opt/anaconda3/lib/python3.8/site-packages (from jupyter-book) (0.0.8)\n",
      "Requirement already satisfied, skipping upgrade: jupyter-sphinx==0.3.1 in /opt/anaconda3/lib/python3.8/site-packages (from myst-nb~=0.12.0->jupyter-book) (0.3.1)\n",
      "Requirement already satisfied, skipping upgrade: importlib-metadata in /opt/anaconda3/lib/python3.8/site-packages (from myst-nb~=0.12.0->jupyter-book) (2.0.0)\n",
      "Requirement already satisfied, skipping upgrade: myst-parser~=0.13.3 in /opt/anaconda3/lib/python3.8/site-packages (from myst-nb~=0.12.0->jupyter-book) (0.13.5)\n",
      "Requirement already satisfied, skipping upgrade: ipywidgets<8,>=7.0.0 in /opt/anaconda3/lib/python3.8/site-packages (from myst-nb~=0.12.0->jupyter-book) (7.5.1)\n",
      "Requirement already satisfied, skipping upgrade: ipython in /opt/anaconda3/lib/python3.8/site-packages (from myst-nb~=0.12.0->jupyter-book) (7.19.0)\n",
      "Requirement already satisfied, skipping upgrade: jupyter-cache~=0.4.1 in /opt/anaconda3/lib/python3.8/site-packages (from myst-nb~=0.12.0->jupyter-book) (0.4.2)\n",
      "Requirement already satisfied, skipping upgrade: uc-micro-py in /opt/anaconda3/lib/python3.8/site-packages (from linkify-it-py~=1.0.1->jupyter-book) (1.0.1)\n",
      "Requirement already satisfied, skipping upgrade: six in /opt/anaconda3/lib/python3.8/site-packages (from nested-lookup~=0.2.21->jupyter-book) (1.15.0)\n",
      "Requirement already satisfied, skipping upgrade: wheel in /opt/anaconda3/lib/python3.8/site-packages (from sphinx-togglebutton->jupyter-book) (0.35.1)\n",
      "Requirement already satisfied, skipping upgrade: pyrsistent>=0.14.0 in /opt/anaconda3/lib/python3.8/site-packages (from jsonschema->jupyter-book) (0.17.3)\n",
      "Requirement already satisfied, skipping upgrade: attrs>=17.4.0 in /opt/anaconda3/lib/python3.8/site-packages (from jsonschema->jupyter-book) (20.3.0)\n",
      "Requirement already satisfied, skipping upgrade: requests>=2.5.0 in /opt/anaconda3/lib/python3.8/site-packages (from sphinx<4,>=2->jupyter-book) (2.24.0)\n",
      "Requirement already satisfied, skipping upgrade: babel>=1.3 in /opt/anaconda3/lib/python3.8/site-packages (from sphinx<4,>=2->jupyter-book) (2.8.1)\n",
      "Requirement already satisfied, skipping upgrade: sphinxcontrib-serializinghtml in /opt/anaconda3/lib/python3.8/site-packages (from sphinx<4,>=2->jupyter-book) (1.1.4)\n",
      "Requirement already satisfied, skipping upgrade: packaging in /opt/anaconda3/lib/python3.8/site-packages (from sphinx<4,>=2->jupyter-book) (20.4)\n",
      "Requirement already satisfied, skipping upgrade: sphinxcontrib-devhelp in /opt/anaconda3/lib/python3.8/site-packages (from sphinx<4,>=2->jupyter-book) (1.0.2)\n",
      "Requirement already satisfied, skipping upgrade: sphinxcontrib-qthelp in /opt/anaconda3/lib/python3.8/site-packages (from sphinx<4,>=2->jupyter-book) (1.0.3)\n",
      "Requirement already satisfied, skipping upgrade: snowballstemmer>=1.1 in /opt/anaconda3/lib/python3.8/site-packages (from sphinx<4,>=2->jupyter-book) (2.0.0)\n",
      "Requirement already satisfied, skipping upgrade: sphinxcontrib-htmlhelp in /opt/anaconda3/lib/python3.8/site-packages (from sphinx<4,>=2->jupyter-book) (1.0.3)\n",
      "Requirement already satisfied, skipping upgrade: Jinja2>=2.3 in /opt/anaconda3/lib/python3.8/site-packages (from sphinx<4,>=2->jupyter-book) (2.11.2)\n",
      "Requirement already satisfied, skipping upgrade: Pygments>=2.0 in /opt/anaconda3/lib/python3.8/site-packages (from sphinx<4,>=2->jupyter-book) (2.7.2)\n",
      "Requirement already satisfied, skipping upgrade: alabaster<0.8,>=0.7 in /opt/anaconda3/lib/python3.8/site-packages (from sphinx<4,>=2->jupyter-book) (0.7.12)\n",
      "Requirement already satisfied, skipping upgrade: imagesize in /opt/anaconda3/lib/python3.8/site-packages (from sphinx<4,>=2->jupyter-book) (1.2.0)\n",
      "Requirement already satisfied, skipping upgrade: sphinxcontrib-jsmath in /opt/anaconda3/lib/python3.8/site-packages (from sphinx<4,>=2->jupyter-book) (1.0.1)\n",
      "Requirement already satisfied, skipping upgrade: sphinxcontrib-applehelp in /opt/anaconda3/lib/python3.8/site-packages (from sphinx<4,>=2->jupyter-book) (1.0.2)\n",
      "Requirement already satisfied, skipping upgrade: pybtex>=0.20 in /opt/anaconda3/lib/python3.8/site-packages (from sphinxcontrib-bibtex~=2.1.0->jupyter-book) (0.24.0)\n",
      "Requirement already satisfied, skipping upgrade: pybtex-docutils>=0.2.2 in /opt/anaconda3/lib/python3.8/site-packages (from sphinxcontrib-bibtex~=2.1.0->jupyter-book) (1.0.0)\n",
      "Requirement already satisfied, skipping upgrade: traitlets>=4.1 in /opt/anaconda3/lib/python3.8/site-packages (from nbformat->jupyter-book) (4.3.3)\n",
      "Requirement already satisfied, skipping upgrade: ipython-genutils in /opt/anaconda3/lib/python3.8/site-packages (from nbformat->jupyter-book) (0.2.0)\n",
      "Requirement already satisfied, skipping upgrade: jupyter-core in /opt/anaconda3/lib/python3.8/site-packages (from nbformat->jupyter-book) (4.6.3)\n",
      "Requirement already satisfied, skipping upgrade: mistune<2,>=0.8.1 in /opt/anaconda3/lib/python3.8/site-packages (from nbconvert<6->jupyter-book) (0.8.4)\n",
      "Requirement already satisfied, skipping upgrade: bleach in /opt/anaconda3/lib/python3.8/site-packages (from nbconvert<6->jupyter-book) (3.2.1)\n",
      "Requirement already satisfied, skipping upgrade: pandocfilters>=1.4.1 in /opt/anaconda3/lib/python3.8/site-packages (from nbconvert<6->jupyter-book) (1.4.3)\n",
      "Requirement already satisfied, skipping upgrade: testpath in /opt/anaconda3/lib/python3.8/site-packages (from nbconvert<6->jupyter-book) (0.4.4)\n",
      "Requirement already satisfied, skipping upgrade: entrypoints>=0.2.2 in /opt/anaconda3/lib/python3.8/site-packages (from nbconvert<6->jupyter-book) (0.3)\n",
      "Requirement already satisfied, skipping upgrade: defusedxml in /opt/anaconda3/lib/python3.8/site-packages (from nbconvert<6->jupyter-book) (0.6.0)\n",
      "Requirement already satisfied, skipping upgrade: pydata-sphinx-theme~=0.4.1 in /opt/anaconda3/lib/python3.8/site-packages (from sphinx-book-theme>=0.0.39->jupyter-book) (0.4.3)\n",
      "Requirement already satisfied, skipping upgrade: beautifulsoup4<5,>=4.6.1 in /opt/anaconda3/lib/python3.8/site-packages (from sphinx-book-theme>=0.0.39->jupyter-book) (4.9.3)\n",
      "Requirement already satisfied, skipping upgrade: toml in /opt/anaconda3/lib/python3.8/site-packages (from jupytext<1.11,>=1.8->jupyter-book) (0.10.1)\n",
      "Requirement already satisfied, skipping upgrade: markdown-it-py~=0.6.0 in /opt/anaconda3/lib/python3.8/site-packages (from jupytext<1.11,>=1.8->jupyter-book) (0.6.2)\n"
     ]
    },
    {
     "name": "stdout",
     "output_type": "stream",
     "text": [
      "Requirement already satisfied, skipping upgrade: zipp>=0.5 in /opt/anaconda3/lib/python3.8/site-packages (from importlib-metadata->myst-nb~=0.12.0->jupyter-book) (3.4.0)\n",
      "Requirement already satisfied, skipping upgrade: mdit-py-plugins~=0.2.5 in /opt/anaconda3/lib/python3.8/site-packages (from myst-parser~=0.13.3->myst-nb~=0.12.0->jupyter-book) (0.2.6)\n",
      "Requirement already satisfied, skipping upgrade: ipykernel>=4.5.1 in /opt/anaconda3/lib/python3.8/site-packages (from ipywidgets<8,>=7.0.0->myst-nb~=0.12.0->jupyter-book) (5.3.4)\n",
      "Requirement already satisfied, skipping upgrade: widgetsnbextension~=3.5.0 in /opt/anaconda3/lib/python3.8/site-packages (from ipywidgets<8,>=7.0.0->myst-nb~=0.12.0->jupyter-book) (3.5.1)\n",
      "Requirement already satisfied, skipping upgrade: pickleshare in /opt/anaconda3/lib/python3.8/site-packages (from ipython->myst-nb~=0.12.0->jupyter-book) (0.7.5)\n",
      "Requirement already satisfied, skipping upgrade: backcall in /opt/anaconda3/lib/python3.8/site-packages (from ipython->myst-nb~=0.12.0->jupyter-book) (0.2.0)\n",
      "Requirement already satisfied, skipping upgrade: prompt-toolkit!=3.0.0,!=3.0.1,<3.1.0,>=2.0.0 in /opt/anaconda3/lib/python3.8/site-packages (from ipython->myst-nb~=0.12.0->jupyter-book) (3.0.8)\n",
      "Requirement already satisfied, skipping upgrade: pexpect>4.3; sys_platform != \"win32\" in /opt/anaconda3/lib/python3.8/site-packages (from ipython->myst-nb~=0.12.0->jupyter-book) (4.8.0)\n",
      "Requirement already satisfied, skipping upgrade: decorator in /opt/anaconda3/lib/python3.8/site-packages (from ipython->myst-nb~=0.12.0->jupyter-book) (4.4.2)\n",
      "Requirement already satisfied, skipping upgrade: appnope; sys_platform == \"darwin\" in /opt/anaconda3/lib/python3.8/site-packages (from ipython->myst-nb~=0.12.0->jupyter-book) (0.1.0)\n",
      "Requirement already satisfied, skipping upgrade: jedi>=0.10 in /opt/anaconda3/lib/python3.8/site-packages (from ipython->myst-nb~=0.12.0->jupyter-book) (0.17.1)\n",
      "Requirement already satisfied, skipping upgrade: nbclient<0.6,>=0.2 in /opt/anaconda3/lib/python3.8/site-packages (from jupyter-cache~=0.4.1->myst-nb~=0.12.0->jupyter-book) (0.5.1)\n",
      "Requirement already satisfied, skipping upgrade: sqlalchemy~=1.3.12 in /opt/anaconda3/lib/python3.8/site-packages (from jupyter-cache~=0.4.1->myst-nb~=0.12.0->jupyter-book) (1.3.20)\n",
      "Requirement already satisfied, skipping upgrade: nbdime in /opt/anaconda3/lib/python3.8/site-packages (from jupyter-cache~=0.4.1->myst-nb~=0.12.0->jupyter-book) (2.1.0)\n",
      "Requirement already satisfied, skipping upgrade: urllib3!=1.25.0,!=1.25.1,<1.26,>=1.21.1 in /opt/anaconda3/lib/python3.8/site-packages (from requests>=2.5.0->sphinx<4,>=2->jupyter-book) (1.25.11)\n",
      "Requirement already satisfied, skipping upgrade: chardet<4,>=3.0.2 in /opt/anaconda3/lib/python3.8/site-packages (from requests>=2.5.0->sphinx<4,>=2->jupyter-book) (3.0.4)\n",
      "Requirement already satisfied, skipping upgrade: certifi>=2017.4.17 in /opt/anaconda3/lib/python3.8/site-packages (from requests>=2.5.0->sphinx<4,>=2->jupyter-book) (2020.6.20)\n",
      "Requirement already satisfied, skipping upgrade: idna<3,>=2.5 in /opt/anaconda3/lib/python3.8/site-packages (from requests>=2.5.0->sphinx<4,>=2->jupyter-book) (2.10)\n",
      "Requirement already satisfied, skipping upgrade: pytz>=2015.7 in /opt/anaconda3/lib/python3.8/site-packages (from babel>=1.3->sphinx<4,>=2->jupyter-book) (2020.1)\n",
      "Requirement already satisfied, skipping upgrade: pyparsing>=2.0.2 in /opt/anaconda3/lib/python3.8/site-packages (from packaging->sphinx<4,>=2->jupyter-book) (2.4.7)\n",
      "Requirement already satisfied, skipping upgrade: MarkupSafe>=0.23 in /opt/anaconda3/lib/python3.8/site-packages (from Jinja2>=2.3->sphinx<4,>=2->jupyter-book) (1.1.1)\n",
      "Requirement already satisfied, skipping upgrade: latexcodec>=1.0.4 in /opt/anaconda3/lib/python3.8/site-packages (from pybtex>=0.20->sphinxcontrib-bibtex~=2.1.0->jupyter-book) (2.0.1)\n",
      "Requirement already satisfied, skipping upgrade: webencodings in /opt/anaconda3/lib/python3.8/site-packages (from bleach->nbconvert<6->jupyter-book) (0.5.1)\n",
      "Requirement already satisfied, skipping upgrade: soupsieve>1.2; python_version >= \"3.0\" in /opt/anaconda3/lib/python3.8/site-packages (from beautifulsoup4<5,>=4.6.1->sphinx-book-theme>=0.0.39->jupyter-book) (2.0.1)\n",
      "Requirement already satisfied, skipping upgrade: jupyter-client in /opt/anaconda3/lib/python3.8/site-packages (from ipykernel>=4.5.1->ipywidgets<8,>=7.0.0->myst-nb~=0.12.0->jupyter-book) (6.1.7)\n",
      "Requirement already satisfied, skipping upgrade: tornado>=4.2 in /opt/anaconda3/lib/python3.8/site-packages (from ipykernel>=4.5.1->ipywidgets<8,>=7.0.0->myst-nb~=0.12.0->jupyter-book) (6.0.4)\n",
      "Requirement already satisfied, skipping upgrade: notebook>=4.4.1 in /opt/anaconda3/lib/python3.8/site-packages (from widgetsnbextension~=3.5.0->ipywidgets<8,>=7.0.0->myst-nb~=0.12.0->jupyter-book) (6.1.4)\n",
      "Requirement already satisfied, skipping upgrade: wcwidth in /opt/anaconda3/lib/python3.8/site-packages (from prompt-toolkit!=3.0.0,!=3.0.1,<3.1.0,>=2.0.0->ipython->myst-nb~=0.12.0->jupyter-book) (0.2.5)\n",
      "Requirement already satisfied, skipping upgrade: ptyprocess>=0.5 in /opt/anaconda3/lib/python3.8/site-packages (from pexpect>4.3; sys_platform != \"win32\"->ipython->myst-nb~=0.12.0->jupyter-book) (0.6.0)\n",
      "Requirement already satisfied, skipping upgrade: parso<0.8.0,>=0.7.0 in /opt/anaconda3/lib/python3.8/site-packages (from jedi>=0.10->ipython->myst-nb~=0.12.0->jupyter-book) (0.7.0)\n",
      "Requirement already satisfied, skipping upgrade: nest-asyncio in /opt/anaconda3/lib/python3.8/site-packages (from nbclient<0.6,>=0.2->jupyter-cache~=0.4.1->myst-nb~=0.12.0->jupyter-book) (1.4.2)\n",
      "Requirement already satisfied, skipping upgrade: async-generator in /opt/anaconda3/lib/python3.8/site-packages (from nbclient<0.6,>=0.2->jupyter-cache~=0.4.1->myst-nb~=0.12.0->jupyter-book) (1.10)\n",
      "Requirement already satisfied, skipping upgrade: colorama in /opt/anaconda3/lib/python3.8/site-packages (from nbdime->jupyter-cache~=0.4.1->myst-nb~=0.12.0->jupyter-book) (0.4.4)\n",
      "Requirement already satisfied, skipping upgrade: GitPython!=2.1.4,!=2.1.5,!=2.1.6 in /opt/anaconda3/lib/python3.8/site-packages (from nbdime->jupyter-cache~=0.4.1->myst-nb~=0.12.0->jupyter-book) (3.1.14)\n",
      "Requirement already satisfied, skipping upgrade: python-dateutil>=2.1 in /opt/anaconda3/lib/python3.8/site-packages (from jupyter-client->ipykernel>=4.5.1->ipywidgets<8,>=7.0.0->myst-nb~=0.12.0->jupyter-book) (2.8.1)\n",
      "Requirement already satisfied, skipping upgrade: pyzmq>=13 in /opt/anaconda3/lib/python3.8/site-packages (from jupyter-client->ipykernel>=4.5.1->ipywidgets<8,>=7.0.0->myst-nb~=0.12.0->jupyter-book) (19.0.2)\n",
      "Requirement already satisfied, skipping upgrade: argon2-cffi in /opt/anaconda3/lib/python3.8/site-packages (from notebook>=4.4.1->widgetsnbextension~=3.5.0->ipywidgets<8,>=7.0.0->myst-nb~=0.12.0->jupyter-book) (20.1.0)\n",
      "Requirement already satisfied, skipping upgrade: terminado>=0.8.3 in /opt/anaconda3/lib/python3.8/site-packages (from notebook>=4.4.1->widgetsnbextension~=3.5.0->ipywidgets<8,>=7.0.0->myst-nb~=0.12.0->jupyter-book) (0.9.1)\n",
      "Requirement already satisfied, skipping upgrade: Send2Trash in /opt/anaconda3/lib/python3.8/site-packages (from notebook>=4.4.1->widgetsnbextension~=3.5.0->ipywidgets<8,>=7.0.0->myst-nb~=0.12.0->jupyter-book) (1.5.0)\n",
      "Requirement already satisfied, skipping upgrade: prometheus-client in /opt/anaconda3/lib/python3.8/site-packages (from notebook>=4.4.1->widgetsnbextension~=3.5.0->ipywidgets<8,>=7.0.0->myst-nb~=0.12.0->jupyter-book) (0.8.0)\n",
      "Requirement already satisfied, skipping upgrade: gitdb<5,>=4.0.1 in /opt/anaconda3/lib/python3.8/site-packages (from GitPython!=2.1.4,!=2.1.5,!=2.1.6->nbdime->jupyter-cache~=0.4.1->myst-nb~=0.12.0->jupyter-book) (4.0.7)\n",
      "Requirement already satisfied, skipping upgrade: cffi>=1.0.0 in /opt/anaconda3/lib/python3.8/site-packages (from argon2-cffi->notebook>=4.4.1->widgetsnbextension~=3.5.0->ipywidgets<8,>=7.0.0->myst-nb~=0.12.0->jupyter-book) (1.14.3)\n",
      "Requirement already satisfied, skipping upgrade: smmap<5,>=3.0.1 in /opt/anaconda3/lib/python3.8/site-packages (from gitdb<5,>=4.0.1->GitPython!=2.1.4,!=2.1.5,!=2.1.6->nbdime->jupyter-cache~=0.4.1->myst-nb~=0.12.0->jupyter-book) (4.0.0)\n",
      "Requirement already satisfied, skipping upgrade: pycparser in /opt/anaconda3/lib/python3.8/site-packages (from cffi>=1.0.0->argon2-cffi->notebook>=4.4.1->widgetsnbextension~=3.5.0->ipywidgets<8,>=7.0.0->myst-nb~=0.12.0->jupyter-book) (2.20)\n"
     ]
    },
    {
     "name": "stdout",
     "output_type": "stream",
     "text": [
      "Note: you may need to restart the kernel to use updated packages.\n"
     ]
    }
   ],
   "source": [
    "pip install -U jupyter-book"
   ]
  },
  {
   "cell_type": "code",
   "execution_count": null,
   "metadata": {},
   "outputs": [],
   "source": []
  }
 ],
 "metadata": {
  "kernelspec": {
   "display_name": "Python 3",
   "language": "python",
   "name": "python3"
  },
  "language_info": {
   "codemirror_mode": {
    "name": "ipython",
    "version": 3
   },
   "file_extension": ".py",
   "mimetype": "text/x-python",
   "name": "python",
   "nbconvert_exporter": "python",
   "pygments_lexer": "ipython3",
   "version": "3.8.5"
  }
 },
 "nbformat": 4,
 "nbformat_minor": 4
}
